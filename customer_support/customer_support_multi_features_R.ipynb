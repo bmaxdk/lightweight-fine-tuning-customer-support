{
 "cells": [
  {
   "cell_type": "markdown",
   "id": "c6b6a728-2b33-4b0a-97a1-195cdfe8616b",
   "metadata": {},
   "source": [
    "# Import Libraries"
   ]
  },
  {
   "cell_type": "code",
   "execution_count": 30,
   "id": "58bf5b49",
   "metadata": {},
   "outputs": [],
   "source": [
    "import os\n",
    "import torch\n",
    "from transformers import AutoTokenizer, AutoModelForCausalLM, Trainer, TrainingArguments, DataCollatorForLanguageModeling\n",
    "from datasets import load_dataset #, load_metric\n",
    "from peft import LoraConfig, get_peft_model, AutoPeftModelForCausalLM\n",
    "import matplotlib.pyplot as plt\n",
    "import numpy as np\n",
    "# from sklearn.metrics import accuracy_score\n",
    "import nltk\n",
    "from nltk.tokenize import word_tokenize\n",
    "import math\n",
    "import sacrebleu "
   ]
  },
  {
   "cell_type": "markdown",
   "id": "17126374-abed-4c4c-b106-ffd1f67266eb",
   "metadata": {},
   "source": [
    "### Check cuda available\n"
   ]
  },
  {
   "cell_type": "code",
   "execution_count": 31,
   "id": "2bb06ecd",
   "metadata": {},
   "outputs": [
    {
     "name": "stdout",
     "output_type": "stream",
     "text": [
      "Cuda is available: True\n",
      "Using device: cuda\n"
     ]
    }
   ],
   "source": [
    "check_cuda = torch.cuda.is_available()\n",
    "\n",
    "device = torch.device('cuda' if check_cuda else 'cpu')\n",
    "print(f\"Cuda is available: {'True' if check_cuda else 'False'}\\nUsing device: {device}\")\n"
   ]
  },
  {
   "cell_type": "markdown",
   "id": "f368e992-8b13-4de1-87ed-9649aac8c908",
   "metadata": {},
   "source": [
    "# Load Dataset"
   ]
  },
  {
   "cell_type": "code",
   "execution_count": 32,
   "id": "e5c34d3b",
   "metadata": {},
   "outputs": [],
   "source": [
    "dataset = load_dataset('bitext/Bitext-customer-support-llm-chatbot-training-dataset')\n"
   ]
  },
  {
   "cell_type": "code",
   "execution_count": 33,
   "id": "69895e97",
   "metadata": {},
   "outputs": [
    {
     "name": "stdout",
     "output_type": "stream",
     "text": [
      "DatasetDict({\n",
      "    train: Dataset({\n",
      "        features: ['flags', 'instruction', 'category', 'intent', 'response'],\n",
      "        num_rows: 26872\n",
      "    })\n",
      "})\n",
      "dict_keys(['train'])\n",
      "\n",
      "intent: \n",
      "{'cancel_order', 'create_account', 'change_shipping_address', 'recover_password', 'review', 'check_cancellation_fee', 'contact_human_agent', 'change_order', 'check_payment_methods', 'payment_issue', 'track_refund', 'switch_account', 'complaint', 'get_refund', 'edit_account', 'set_up_shipping_address', 'delivery_period', 'check_refund_policy', 'contact_customer_service', 'delivery_options', 'delete_account', 'newsletter_subscription', 'registration_problems', 'get_invoice', 'track_order', 'place_order', 'check_invoice'}\n",
      "\n",
      "category: \n",
      "{'ORDER', 'CONTACT', 'REFUND', 'FEEDBACK', 'CANCEL', 'SHIPPING', 'INVOICE', 'DELIVERY', 'SUBSCRIPTION', 'PAYMENT', 'ACCOUNT'}\n"
     ]
    }
   ],
   "source": [
    "print(dataset)\n",
    "print(dataset.keys())\n",
    "# print(f\"\\nflags: \\n{set(dataset['train']['flags'])}\")\n",
    "# print(f\"\\ninstruction: \\n{set(dataset['train']['instruction'])}\")\n",
    "print(f\"\\nintent: \\n{set(dataset['train']['intent'])}\")\n",
    "print(f\"\\ncategory: \\n{set(dataset['train']['category'])}\")\n",
    "# print(f\"\\nresponse: \\n{set(dataset['train']['response'])}\")\n",
    "\n"
   ]
  },
  {
   "cell_type": "markdown",
   "id": "018d0e51",
   "metadata": {},
   "source": [
    "> [!NOTE]\n",
    "> This dataset only contains a **train** split.\n",
    "> Need to manually aplit it into training, validation, and test sets for model evaluation.\n",
    "\n"
   ]
  },
  {
   "cell_type": "markdown",
   "id": "aa96f4a0-f97d-4f0d-b23b-63770450e8de",
   "metadata": {},
   "source": [
    "# Load the Tokenizer and Model\n",
    "### Model Selection\n",
    "Microsoft `DialogGTP-medium` is available in [huggingface](https://huggingface.co/microsoft/DialoGPT-medium) which fine-tuned on Reddit conversation data. \n",
    "- Model Size and Resource Balance: The `DialoGPT-medium model` provides a good balance between size and resource usage, making it suitable for handling conversational tasks efficiently without overloading system resources.\n",
    "- Pre-trained Knowledge Base: Since it is pre-trained on a vast set of Reddit conversations, it’s equipped with a wide-ranging understanding of language patterns. This helps to interpret and generate coherent responses across diverse conversational topics.\n",
    "- Optimized for Dialogue: Built specifically for conversation, DialoGPT-medium naturally excels at creating engaging responses. Its training makes it well-suited to jump into dialogue, making it a great choice for applications centered around conversation.\n",
    "\n",
    "\n",
    "> [!NOTE]\n",
    "> **pad_token**: This token is used to fill in extra space so that all sequences in a batch are the same length, making batch processing smoother and more efficient.\n",
    "> **eos_token**: Short for \"End of Sequence,\" this token marks where a sequence finishes, signaling to the model that it’s reached the end of the input or output."
   ]
  },
  {
   "cell_type": "code",
   "execution_count": 34,
   "id": "d2fa9a3c",
   "metadata": {},
   "outputs": [
    {
     "name": "stdout",
     "output_type": "stream",
     "text": [
      "Padding token\n",
      "Pad token: <|endoftext|>, ID: 50256\n",
      "EOS token: <|endoftext|>, ID: 50256\n",
      "GPT2LMHeadModel(\n",
      "  (transformer): GPT2Model(\n",
      "    (wte): Embedding(50257, 1024)\n",
      "    (wpe): Embedding(1024, 1024)\n",
      "    (drop): Dropout(p=0.1, inplace=False)\n",
      "    (h): ModuleList(\n",
      "      (0-23): 24 x GPT2Block(\n",
      "        (ln_1): LayerNorm((1024,), eps=1e-05, elementwise_affine=True)\n",
      "        (attn): GPT2SdpaAttention(\n",
      "          (c_attn): Conv1D(nf=3072, nx=1024)\n",
      "          (c_proj): Conv1D(nf=1024, nx=1024)\n",
      "          (attn_dropout): Dropout(p=0.1, inplace=False)\n",
      "          (resid_dropout): Dropout(p=0.1, inplace=False)\n",
      "        )\n",
      "        (ln_2): LayerNorm((1024,), eps=1e-05, elementwise_affine=True)\n",
      "        (mlp): GPT2MLP(\n",
      "          (c_fc): Conv1D(nf=4096, nx=1024)\n",
      "          (c_proj): Conv1D(nf=1024, nx=4096)\n",
      "          (act): NewGELUActivation()\n",
      "          (dropout): Dropout(p=0.1, inplace=False)\n",
      "        )\n",
      "      )\n",
      "    )\n",
      "    (ln_f): LayerNorm((1024,), eps=1e-05, elementwise_affine=True)\n",
      "  )\n",
      "  (lm_head): Linear(in_features=1024, out_features=50257, bias=False)\n",
      ")\n"
     ]
    }
   ],
   "source": [
    "# Load the Tokenizer and Model from Hugging Face\n",
    "model_name = 'microsoft/DialoGPT-medium'\n",
    "tokenizer = AutoTokenizer.from_pretrained(model_name)\n",
    "\n",
    "# Set the pad_token to eos_token: \n",
    "# This helps avoid unwanted attention on padded positions because, during training, \n",
    "# the model learned to ignore anything after the eos_token.\n",
    "if tokenizer.pad_token is None:\n",
    "    print(\"Padding token\")\n",
    "    # tokenizer.add_special_tokens({'pad_token': '[PAD]'}) # For fine-tuning the model on tasks requiring distinct padding\n",
    "    tokenizer.pad_token = tokenizer.eos_token\n",
    "\n",
    "# Verify the pad_token:\n",
    "# Padding is handled correctly to prevent unintended behavior during training and inference\n",
    "print(f\"Pad token: {tokenizer.pad_token}, ID: {tokenizer.pad_token_id}\")\n",
    "print(f\"EOS token: {tokenizer.eos_token}, ID: {tokenizer.eos_token_id}\")\n",
    "\n",
    "# NOTE!\n",
    "# Shows that both pad_token and eos_token are set correctly and have the same ID 50256\n",
    "# If mismatch the assigned token, padding may not work correcly. It could lead issues in downstream tasks like training convergence or inference accuracy\n",
    "\n",
    "# Load the pre-trained model\n",
    "model = AutoModelForCausalLM.from_pretrained(model_name)\n",
    "\n",
    "# Resize the embeddings to accommodate the new pad_token\n",
    "model.resize_token_embeddings(len(tokenizer))\n",
    "\n",
    "# move model to cuda in my case\n",
    "model.to(device)\n",
    "\n",
    "# Check the model architecture\n",
    "print(model)\n"
   ]
  },
  {
   "cell_type": "markdown",
   "id": "4977024f-92c7-4344-a7f5-d1904f3a27af",
   "metadata": {},
   "source": [
    ">[!NOTE]\n",
    "> In GPT2LMHeadModel, c_attn and c_proj handle attention related transformations.\n",
    "> It allows the model to learn new patterns in the attention mechanism to the data"
   ]
  },
  {
   "cell_type": "markdown",
   "id": "dde1888a-8465-4ade-8dfb-7bf9637524af",
   "metadata": {},
   "source": [
    "# Data Preprocessing\n",
    "Applied this function to format the conversation correctly. This function apply user instructions and assistnat response with proper tokenization. Each conversation is formatted w/ User and Assistant, separated by 'eos_token'.\n",
    "\n",
    "Features are used: `instruction`, `response`, `category`, `intent`\n",
    "\n",
    "Added multiple context to the model which can enhance its ability to generate accurate and relevant response.\n"
   ]
  },
  {
   "cell_type": "code",
   "execution_count": 35,
   "id": "7a33a8e3",
   "metadata": {},
   "outputs": [],
   "source": [
    "def preprocess_function(examples):\n",
    "    conversations = []\n",
    "    # Features used: `instruction`, `response`, `category`, `intent`\n",
    "    for instruction, response, category, intent in zip(examples['instruction'], examples['response'], examples['category'], examples['intent']):\n",
    "        conversation = (\n",
    "                        f\"{tokenizer.eos_token}Category: {category}{tokenizer.eos_token}\"\n",
    "                        f\"Intent: {intent}{tokenizer.eos_token}\"\n",
    "                        f\"User(Customer): {instruction}{tokenizer.eos_token} \"\n",
    "                        f\"Service Assistant: {response}{tokenizer.eos_token}\"\n",
    "                        # f\"<BOS> Category: {category} </BOS>\"\n",
    "                        # f\"<BOS> Intent: {intent} </BOS>\"\n",
    "                        # f\"<BOS> User: {instruction} </BOS>\"\n",
    "                        # f\"<BOS> Assistant: {response} </BOS>\"\n",
    "                        )\n",
    "        conversations.append(conversation)\n",
    "\n",
    "    # The tokenizer converts the conversations into input IDs, padding/truncating them to a maximum length of 512 tokens\n",
    "    model_inputs = tokenizer(conversations, max_length=512, truncation=True, padding='max_length')\n",
    "    \n",
    "    # The model is trained to predict the next token in the sequence, so labels are set as a copy of the input IDs.\n",
    "    model_inputs['labels'] = model_inputs['input_ids'].copy()\n",
    "    return model_inputs\n"
   ]
  },
  {
   "cell_type": "markdown",
   "id": "cc7cb833-4e79-4710-adcb-8bcf989da625",
   "metadata": {},
   "source": [
    "# Tokenize and Split the Dataset\n",
    "- Applied 10% of the data for evaluation\n",
    "- For efficiency, set to batched=True, which the preprocess_function receives a batch of examples at once."
   ]
  },
  {
   "cell_type": "code",
   "execution_count": 36,
   "id": "0c469770",
   "metadata": {},
   "outputs": [],
   "source": [
    "# Tokenize & Split the Dataset\n",
    "tokenized_dataset = dataset['train'].map(preprocess_function, batched=True, remove_columns=dataset['train'].column_names)\n",
    "\n",
    "# Split the dataset into train and eval sets\n",
    "split_datasets = tokenized_dataset.train_test_split(test_size=0.1)\n",
    "train_dataset = split_datasets['train']\n",
    "eval_dataset = split_datasets['test']\n"
   ]
  },
  {
   "cell_type": "markdown",
   "id": "3c09edbc-3bc0-4ede-b136-efd87e8a695a",
   "metadata": {},
   "source": [
    "# Create PEFT (LoRA) Configuration\n",
    "- r (Rank): Determines the size of the low-rank matrices. A smaller r means fewer parameters.\n",
    "- lora_alpha: Scaling factor to balance the contribution of the LoRA layers.\n",
    "- target_modules: Specifies which layers in the model to apply LoRA. For DialoGPT (based on GPT-2), \"c_attn\" and \"c_proj\" are common targets (Check model archetecture above)\n",
    "- lora_dropout: Dropout rate applied to the LoRA layers.\n",
    "- bias: How biases are handled. Setted to \"none\" which the model’s biases remain untouched during training. \n",
    "- task_type: Defines the task type. For causal language modeling, use \"CAUSAL_LM\" (Task type: Causal Language Modeling).\n"
   ]
  },
  {
   "cell_type": "code",
   "execution_count": 37,
   "id": "6b75889a",
   "metadata": {},
   "outputs": [],
   "source": [
    "# PEFT Config\n",
    "lora_config = LoraConfig(\n",
    "    r=8,\n",
    "    lora_alpha=32,\n",
    "    target_modules=[\"c_attn\", \"c_proj\"],\n",
    "    lora_dropout=0.1,\n",
    "    bias=\"none\",\n",
    "    task_type=\"CAUSAL_LM\"\n",
    ")\n"
   ]
  },
  {
   "cell_type": "code",
   "execution_count": null,
   "id": "e5fbcc7d",
   "metadata": {},
   "outputs": [],
   "source": []
  },
  {
   "cell_type": "markdown",
   "id": "a2f98d1c-2c86-4d1f-89a4-3c515dea56a2",
   "metadata": {},
   "source": [
    "# Convert to PEFT Model and Check Trainable Params"
   ]
  },
  {
   "cell_type": "code",
   "execution_count": 38,
   "id": "3126fe5c",
   "metadata": {},
   "outputs": [
    {
     "name": "stderr",
     "output_type": "stream",
     "text": [
      "/home/r0b0t4rl/anaconda3/envs/genAI/lib/python3.10/site-packages/peft/tuners/lora/layer.py:1150: UserWarning: fan_in_fan_out is set to False but the target module is `Conv1D`. Setting fan_in_fan_out to True.\n",
      "  warnings.warn(\n"
     ]
    },
    {
     "name": "stdout",
     "output_type": "stream",
     "text": [
      "trainable params: 2,162,688 || all params: 356,985,856 || trainable%: 0.6058\n"
     ]
    }
   ],
   "source": [
    "# Convert to PEFT Model: Integrate the LoRA adapters into the pre-trained model using the configuration defined above.\n",
    "peft_model = get_peft_model(model, lora_config)\n",
    "\n",
    "peft_model.print_trainable_parameters()\n"
   ]
  },
  {
   "cell_type": "markdown",
   "id": "af40a342-0728-4e87-ae82-ee10ce29f7a4",
   "metadata": {},
   "source": [
    "Only 0.6058% of the total model parameters are trainable"
   ]
  },
  {
   "cell_type": "markdown",
   "id": "5c94e739-2296-413c-b8cf-cb17a4edec80",
   "metadata": {},
   "source": [
    "# Training Arguments\n",
    "[Training Arguments](https://huggingface.co/docs/transformers/en/main_classes/trainer)\n",
    "- output_dir: Directory to save model checkpoints\n",
    "\n",
    "Defines the number of samples processed per device (GPU/CPU) during training and evaluation.\n",
    "- per_device_train_batch_size: Batch size per device during training\n",
    "- per_device_eval_batch_size: Batch size per device during evaluation\n",
    "\n",
    "> [!TIP]\n",
    "> Large Batch Size: It will lead faster training per epoch but require more epochs to converge.\n",
    "> Smaller Batch Size: Take more time per epoch.\n",
    "> Adjust Batch size based on GPU memory (nvidia-smi)\n",
    "> In my case used smaller batch sizes with gradient accumulation\n",
    "gradient_accumulation_steps=4,  # Number of update steps to accumulate before performing a backward/update pass\n",
    "\n",
    "- num_train_epochs: Total number of training epochs. It specify the # of times the training algorithm will work through the entrie training dataset.\n",
    "\n",
    "> [!TIP]\n",
    "> For dataset size, smaller datasets may require more epochs to generalize well.\n",
    "> Overfitting risk can be consider if too many epochs. Make sure monitor validation loss to determine when to stop.\n",
    "> More epochs will take longer training times.\n",
    "\n",
    "- learning_rate: Learning rate determines the step size at each iter while moving toward a min of loss func.\n",
    "- fp16: Enable mixed precision training if GPU is available. It enables mixed precision training, which uses 16-bit floating point numers to reduce memory usage and speed up training.\n",
    "\n",
    "- logging_steps: Log training metrics every 100 steps which determines how often in step training metrics are logged.\n",
    "\n",
    "- eval_strategy: Evaluation strategy ('steps', 'epoch', 'no') specify when to run evaluation during training. Choosed 'step' in order to evaluate the model at regular intervals.\n",
    "- eval_steps: Evaluate every # of steps.\n",
    "\n",
    "- save_strategy: Save strategy for model checkpoints\n",
    "- save_steps: Save checkpoint at # of steps\n",
    "\n",
    "- report_to: Integrations for logging ('tensorboard', 'wandb', 'comet_ml'). 'None': Disable reporting to external services.\n",
    "\n",
    "- load_best_model_at_end: Load the best model at the end of training\n",
    "- metric_for_best_model: Metric to use to evaluate the best model. Commonly used loss.\n",
    "- greater_is_better: For loss, lower is better. This indicates whether a higher metric value is better.\n",
    "- logging_dir: Directory for storing logs for monitoring training."
   ]
  },
  {
   "cell_type": "code",
   "execution_count": 39,
   "id": "901cd353",
   "metadata": {},
   "outputs": [],
   "source": [
    "training_args = TrainingArguments(\n",
    "    output_dir='./customer_support_chatbot_peft2',\n",
    "    per_device_train_batch_size=4,\n",
    "    per_device_eval_batch_size=4,\n",
    "    gradient_accumulation_steps=4,\n",
    "    num_train_epochs=3,  # Reduced epochs to prevent overfitting\n",
    "    learning_rate=3e-5,  # Slightly lower learning rate for better convergence\n",
    "    fp16=torch.cuda.is_available(),\n",
    "    logging_steps=100,\n",
    "    eval_strategy='steps',\n",
    "    eval_steps=500, \n",
    "    save_strategy='steps',\n",
    "    save_steps=500,\n",
    "    report_to='none',\n",
    "    save_total_limit=2,  # Limit the total number of saved checkpoints\n",
    "    load_best_model_at_end=True,\n",
    "    metric_for_best_model='eval_loss',\n",
    "    greater_is_better=False,\n",
    "    logging_dir='./logs',\n",
    ")\n"
   ]
  },
  {
   "cell_type": "markdown",
   "id": "a7f16075-569a-406c-a7ec-4ca2f1057773",
   "metadata": {},
   "source": [
    "## Evaluate the Pre-Trained Model \n",
    "- Tokenizer"
   ]
  },
  {
   "cell_type": "code",
   "execution_count": 57,
   "id": "bdebcc5b-b0bf-46fc-a596-8f716f8fac5f",
   "metadata": {},
   "outputs": [
    {
     "data": {
      "text/html": [
       "\n",
       "    <div>\n",
       "      \n",
       "      <progress value='672' max='672' style='width:300px; height:20px; vertical-align: middle;'></progress>\n",
       "      [672/672 00:36]\n",
       "    </div>\n",
       "    "
      ],
      "text/plain": [
       "<IPython.core.display.HTML object>"
      ]
     },
     "metadata": {},
     "output_type": "display_data"
    },
    {
     "name": "stdout",
     "output_type": "stream",
     "text": [
      "PreTrained Model Perplexity: 1901.6922739434885\n"
     ]
    }
   ],
   "source": [
    "# Initialize a Trainer for the pre-trained (Foundation) Model\n",
    "foundation_trainer = Trainer(\n",
    "    model=foundation_model,\n",
    "    args=training_args,\n",
    "    eval_dataset=eval_dataset,\n",
    "    tokenizer=tokenizer,\n",
    "    data_collator=data_collator,\n",
    ")\n",
    "\n",
    "# Evaluate the Foundation Model\n",
    "eval_results_foundation = foundation_trainer.evaluate()\n",
    "perplexity_foundation = math.exp(eval_results_foundation['eval_loss'])\n",
    "print(f\"PreTrained Model Perplexity: {perplexity_foundation}\")\n"
   ]
  },
  {
   "cell_type": "markdown",
   "id": "5ca293d5-b79f-42c1-9b7d-28b17885f2a5",
   "metadata": {},
   "source": [
    "# Create Data Collator\n",
    "Define a [data collator](https://huggingface.co/docs/transformers/en/main_classes/data_collator) that will dynamically pad the inputs during training. A data collator is a function that is responsible for batch formation during training and evaluation. It processes individual dataset examples and combines them into a batch, applying necessary transformations such as padding and masking.\n",
    "\n",
    "Specifically designed for language modeling tasks, this data collator handles the creation of batches for training language models.\n",
    "- tokenizer: The tokenizer used to process the text data (It is necessary for padding and creating attention masks)\n",
    "- mlm:Masked Language Modeling(mlm)\n",
    "> [!TIP]\n",
    "> mlm=True\n",
    "> Used in models like BERT, where some tokens are masked, and the model is trained to predict them.\n",
    ">\n",
    "> mlm=False\n",
    "> The model is trained to predict the next token in the sequence.\n",
    ">\n",
    "> mlm is not appropriate for causal language models like GPT-2 or DialoGPT. False setting aligns with the training objectives of causal language models."
   ]
  },
  {
   "cell_type": "code",
   "execution_count": 41,
   "id": "87b638db",
   "metadata": {},
   "outputs": [],
   "source": [
    "data_collator = DataCollatorForLanguageModeling(tokenizer=tokenizer, mlm=False)  # Masked Language Modeling is disabled for causal language models"
   ]
  },
  {
   "cell_type": "markdown",
   "id": "281faafe-727f-4df4-b0ef-2ed4e60ca5cd",
   "metadata": {},
   "source": [
    "# Initialize the Trainer\n",
    "Set up the Hugging Face Trainer with the PEFT model, training arguments, datasets, and data collator."
   ]
  },
  {
   "cell_type": "code",
   "execution_count": 42,
   "id": "2ece7aeb",
   "metadata": {},
   "outputs": [],
   "source": [
    "trainer = Trainer(\n",
    "    model=peft_model,\n",
    "    args=training_args,\n",
    "    train_dataset=train_dataset,\n",
    "    eval_dataset=eval_dataset,\n",
    "    data_collator=data_collator,\n",
    ")\n"
   ]
  },
  {
   "cell_type": "markdown",
   "id": "45e7d00d-d227-40ca-bb50-095199b98b32",
   "metadata": {},
   "source": [
    "# Train the Model"
   ]
  },
  {
   "cell_type": "code",
   "execution_count": 43,
   "id": "d302b4f1",
   "metadata": {},
   "outputs": [
    {
     "data": {
      "text/html": [
       "\n",
       "    <div>\n",
       "      \n",
       "      <progress value='4533' max='4533' style='width:300px; height:20px; vertical-align: middle;'></progress>\n",
       "      [4533/4533 54:26, Epoch 2/3]\n",
       "    </div>\n",
       "    <table border=\"1\" class=\"dataframe\">\n",
       "  <thead>\n",
       " <tr style=\"text-align: left;\">\n",
       "      <th>Step</th>\n",
       "      <th>Training Loss</th>\n",
       "      <th>Validation Loss</th>\n",
       "    </tr>\n",
       "  </thead>\n",
       "  <tbody>\n",
       "    <tr>\n",
       "      <td>500</td>\n",
       "      <td>2.603700</td>\n",
       "      <td>2.259510</td>\n",
       "    </tr>\n",
       "    <tr>\n",
       "      <td>1000</td>\n",
       "      <td>2.055900</td>\n",
       "      <td>1.822832</td>\n",
       "    </tr>\n",
       "    <tr>\n",
       "      <td>1500</td>\n",
       "      <td>1.857600</td>\n",
       "      <td>1.647718</td>\n",
       "    </tr>\n",
       "    <tr>\n",
       "      <td>2000</td>\n",
       "      <td>1.728300</td>\n",
       "      <td>1.539233</td>\n",
       "    </tr>\n",
       "    <tr>\n",
       "      <td>2500</td>\n",
       "      <td>1.665900</td>\n",
       "      <td>1.460746</td>\n",
       "    </tr>\n",
       "    <tr>\n",
       "      <td>3000</td>\n",
       "      <td>1.600700</td>\n",
       "      <td>1.398751</td>\n",
       "    </tr>\n",
       "    <tr>\n",
       "      <td>3500</td>\n",
       "      <td>1.575300</td>\n",
       "      <td>1.367623</td>\n",
       "    </tr>\n",
       "    <tr>\n",
       "      <td>4000</td>\n",
       "      <td>1.533000</td>\n",
       "      <td>1.352919</td>\n",
       "    </tr>\n",
       "    <tr>\n",
       "      <td>4500</td>\n",
       "      <td>1.526900</td>\n",
       "      <td>1.346978</td>\n",
       "    </tr>\n",
       "  </tbody>\n",
       "</table><p>"
      ],
      "text/plain": [
       "<IPython.core.display.HTML object>"
      ]
     },
     "metadata": {},
     "output_type": "display_data"
    },
    {
     "data": {
      "text/plain": [
       "TrainOutput(global_step=4533, training_loss=1.9689473165414888, metrics={'train_runtime': 3267.0057, 'train_samples_per_second': 22.207, 'train_steps_per_second': 1.388, 'total_flos': 6.783866386985779e+16, 'train_loss': 1.9689473165414888, 'epoch': 2.9990076083360897})"
      ]
     },
     "execution_count": 43,
     "metadata": {},
     "output_type": "execute_result"
    }
   ],
   "source": [
    "trainer.train()\n"
   ]
  },
  {
   "cell_type": "markdown",
   "id": "787706ac-26a6-485d-acd5-3a624f5e98df",
   "metadata": {},
   "source": [
    "## Evaluate the PEFT Model\n"
   ]
  },
  {
   "cell_type": "code",
   "execution_count": 59,
   "id": "cf91f17e-2e72-4b79-9f2d-84d8f890b97d",
   "metadata": {},
   "outputs": [
    {
     "name": "stdout",
     "output_type": "stream",
     "text": [
      "Pre-trained Model Perplexity: 1901.6922739434885\n",
      "PEFT Model Perplexity: 3.845786708271636\n"
     ]
    }
   ],
   "source": [
    "# PEFT fine-tuned model\n",
    "eval_results_peft = trainer.evaluate()\n",
    "perplexity_peft = math.exp(eval_results_peft['eval_loss'])\n",
    "print(f\"Pre-trained Model Perplexity: {perplexity_foundation}\")\n",
    "print(f\"PEFT Model Perplexity: {perplexity_peft}\")\n"
   ]
  },
  {
   "cell_type": "markdown",
   "id": "31051b73-476a-40d3-afd0-19ab39e10047",
   "metadata": {},
   "source": [
    "[**Perplexity**](https://huggingface.co/docs/transformers/en/perplexity) measures how well a probability model predicts a sample. In the context of language models, compare to orifinal foundation model, PEFT model has lower perplexity which indicates better performance. The PEFT model is more confident and accurate in predictions.\n"
   ]
  },
  {
   "cell_type": "markdown",
   "id": "150b7768-d87c-4852-a306-9a5bdf4415aa",
   "metadata": {},
   "source": [
    "## Compute BLEU Score for PEFT Model\n",
    "generate_response_peft:\n",
    "- model: The pre-trained language model.\n",
    "- tokenizer: Tokenizer associated with the model for encoding and decoding text.\n",
    "- instruction: The user input(prompt) to which the model should respond.\n",
    "- category (optional): 'unknown'\n",
    "- intent (optional): 'unknown'\n"
   ]
  },
  {
   "cell_type": "code",
   "execution_count": 71,
   "id": "f568c6db-8d2f-4d06-ade3-db2f1e9ef989",
   "metadata": {},
   "outputs": [
    {
     "name": "stdout",
     "output_type": "stream",
     "text": [
      "PEFT Model SacreBLEU Score: 3.9768704821496477\n"
     ]
    }
   ],
   "source": [
    "# Compute BLEU Score for the PEFT Model using SacreBLEU\n",
    "from sacrebleu.metrics import BLEU\n",
    "\n",
    "\n",
    "# def generate_response_peft(model, tokenizer, instruction, category='unknown', intent='unknown'):\n",
    "#     # Use eos_token as delimiters in the conversation format\n",
    "#     conversation = (\n",
    "#         f\"<BOS> Category: {category} </BOS>\"\n",
    "#         f\"<BOS> Intent: {intent} </BOS>\"\n",
    "#         f\"<BOS> User: {instruction} </BOS>\"\n",
    "#         f\"<BOS> Assistant:\"\n",
    "#     )\n",
    "#     inputs = tokenizer(conversation, return_tensors='pt', padding=True).to(device) # Tokenize the conversation\n",
    "#     with torch.no_grad():\n",
    "#         outputs = model.generate(\n",
    "#             input_ids=inputs[\"input_ids\"],\n",
    "#             attention_mask=inputs[\"attention_mask\"],\n",
    "#             max_new_tokens=50,\n",
    "#             pad_token_id=tokenizer.pad_token_id,\n",
    "#             eos_token_id=tokenizer.eos_token_id,\n",
    "#             top_p=0.9,\n",
    "#             temperature=0.7,\n",
    "#             do_sample=True,\n",
    "#         )\n",
    "#     response = tokenizer.decode(outputs[0], skip_special_tokens=True)\n",
    "#     assistant_reply = response.split('<BOS> Assistant:')[-1].strip()\n",
    "#     return assistant_reply\n",
    "\n",
    "def generate_response_peft(model, tokenizer, instruction, category='unknown', intent='unknown'):\n",
    "    # Use eos_token as delimiters in the conversation format\n",
    "    conversation = (\n",
    "        f\"{tokenizer.eos_token}Category: {category}{tokenizer.eos_token}\"\n",
    "        f\"Intent: {intent}{tokenizer.eos_token}\"\n",
    "        f\"User: {instruction}{tokenizer.eos_token}\"\n",
    "        f\"Assistant:\"\n",
    "    )\n",
    "    inputs = tokenizer(conversation, return_tensors='pt', padding=True).to(device) # Tokenize the conversation\n",
    "    \n",
    "    # Generate the response from the model w/out computing gradients\n",
    "    with torch.no_grad():\n",
    "        # Invokes the model's txt generation cability\n",
    "        outputs = model.generate(\n",
    "            input_ids=inputs[\"input_ids\"],\n",
    "            attention_mask=inputs[\"attention_mask\"],\n",
    "            max_new_tokens=50, # Limit the response to 50 new tokens to avoid long outputs\n",
    "            pad_token_id=tokenizer.pad_token_id,  # Padding handling. TokenID used for padding sequence.\n",
    "            eos_token_id=tokenizer.eos_token_id,  # Set model stops generation at eos_token\n",
    "            top_p=0.9,  # Nucleus sampling for diverse outputs. Promotes diversirty in the generated responses\n",
    "            temperature=0.7, # Control the randomness of predictions by scaling the logits before applying softmax.\n",
    "            do_sample=True,  # non-deterministic\n",
    "        )\n",
    "    \n",
    "    # Decode the output and extract the assistant's reply. Convert the generated IDs back into human-readable string.\n",
    "    response = tokenizer.decode(outputs[0], skip_special_tokens=True)\n",
    "    assistant_reply = response.split(f\"Assistant:\")[-1].strip()  # Extract response after 'Assistant:'\n",
    "    return assistant_reply\n",
    "\n",
    "\n",
    "# Computes the BLEU score btween the model's generated responses and the reference responses in the dataset.\n",
    "def compute_bleu_sacrebleu(model, tokenizer, dataset):\n",
    "    references = []\n",
    "    predictions = []\n",
    "\n",
    "    # BLEU score compute\n",
    "    for example in dataset:\n",
    "        input_ids = example['input_ids']\n",
    "        labels = example['labels']\n",
    "        \n",
    "        # Decode the conversation\n",
    "        conversation_text = tokenizer.decode(input_ids, skip_special_tokens=True)\n",
    "        instruction_text = conversation_text.split('User:')[-1].split('Assistant:')[0].strip()\n",
    "        \n",
    "        # Decode the reference response\n",
    "        label_text = tokenizer.decode(labels, skip_special_tokens=True)\n",
    "        reference_response = label_text.split('Assistant:')[-1].strip()\n",
    "        \n",
    "        # Generate the model's response\n",
    "        generated_response = generate_response_peft(model, tokenizer, instruction_text)\n",
    "        \n",
    "        # Collect reference and generated rsponse\n",
    "        references.append(reference_response)\n",
    "        predictions.append(generated_response)\n",
    "    \n",
    "    # Compute BLEU score using SacreBLEU\n",
    "    bleu = BLEU()\n",
    "    score = bleu.corpus_score(predictions, [references]) # Compute the BLEU score over the entire corpus (predictions and references)\n",
    "    return score.score\n",
    "\n",
    "# Calculate BLEU Score\n",
    "bleu_score_peft = compute_bleu_sacrebleu(peft_model, tokenizer, eval_dataset)\n",
    "print(f\"PEFT Model SacreBLEU Score: {bleu_score_peft}\")"
   ]
  },
  {
   "cell_type": "markdown",
   "id": "5d064874-a1f0-4bd7-b206-2d71ea485019",
   "metadata": {},
   "source": [
    "> [!NOTE]\n",
    "> **Higher BLEU Score:** Indicates closer similarity between the generated text and the reference text.\n",
    "> **Lower BLEU Score:** Suggests greater divergence from the reference.\n",
    "\n",
    "\n"
   ]
  },
  {
   "cell_type": "markdown",
   "id": "353ee12e-80c0-41bf-b6fd-2d2f6d928c84",
   "metadata": {},
   "source": [
    "# Compare Original and PEFT Model\n",
    "\n",
    "## Load the Original Foundation Model"
   ]
  },
  {
   "cell_type": "code",
   "execution_count": 72,
   "id": "3272f272-e71e-4964-be93-156be8c147d6",
   "metadata": {},
   "outputs": [
    {
     "data": {
      "text/plain": [
       "GPT2LMHeadModel(\n",
       "  (transformer): GPT2Model(\n",
       "    (wte): Embedding(50257, 1024)\n",
       "    (wpe): Embedding(1024, 1024)\n",
       "    (drop): Dropout(p=0.1, inplace=False)\n",
       "    (h): ModuleList(\n",
       "      (0-23): 24 x GPT2Block(\n",
       "        (ln_1): LayerNorm((1024,), eps=1e-05, elementwise_affine=True)\n",
       "        (attn): GPT2SdpaAttention(\n",
       "          (c_attn): Conv1D(nf=3072, nx=1024)\n",
       "          (c_proj): Conv1D(nf=1024, nx=1024)\n",
       "          (attn_dropout): Dropout(p=0.1, inplace=False)\n",
       "          (resid_dropout): Dropout(p=0.1, inplace=False)\n",
       "        )\n",
       "        (ln_2): LayerNorm((1024,), eps=1e-05, elementwise_affine=True)\n",
       "        (mlp): GPT2MLP(\n",
       "          (c_fc): Conv1D(nf=4096, nx=1024)\n",
       "          (c_proj): Conv1D(nf=1024, nx=4096)\n",
       "          (act): NewGELUActivation()\n",
       "          (dropout): Dropout(p=0.1, inplace=False)\n",
       "        )\n",
       "      )\n",
       "    )\n",
       "    (ln_f): LayerNorm((1024,), eps=1e-05, elementwise_affine=True)\n",
       "  )\n",
       "  (lm_head): Linear(in_features=1024, out_features=50257, bias=False)\n",
       ")"
      ]
     },
     "execution_count": 72,
     "metadata": {},
     "output_type": "execute_result"
    }
   ],
   "source": [
    "# Load the Original Foundation Model\n",
    "foundation_model = AutoModelForCausalLM.from_pretrained(model_name)\n",
    "foundation_model.resize_token_embeddings(len(tokenizer))  # Ensure embeddings match tokenizer\n",
    "foundation_model.to(device)\n",
    "foundation_model.eval()\n"
   ]
  },
  {
   "cell_type": "markdown",
   "id": "6230c1de-2cd9-45fd-8581-4767cf32111a",
   "metadata": {},
   "source": [
    "## Evaluate the Original Foundation Model"
   ]
  },
  {
   "cell_type": "code",
   "execution_count": 87,
   "id": "f3f5fd1e-1c4e-4698-8f03-7478440b0801",
   "metadata": {},
   "outputs": [
    {
     "data": {
      "text/html": [
       "\n",
       "    <div>\n",
       "      \n",
       "      <progress value='672' max='672' style='width:300px; height:20px; vertical-align: middle;'></progress>\n",
       "      [672/672 00:37]\n",
       "    </div>\n",
       "    "
      ],
      "text/plain": [
       "<IPython.core.display.HTML object>"
      ]
     },
     "metadata": {},
     "output_type": "display_data"
    },
    {
     "name": "stdout",
     "output_type": "stream",
     "text": [
      "OriginalFoundation Model Perplexity: 1901.6922739434885\n"
     ]
    }
   ],
   "source": [
    "# Initialize a Trainer for the Foundation Model\n",
    "foundation_trainer = Trainer(\n",
    "    model=foundation_model,\n",
    "    args=training_args,\n",
    "    eval_dataset=eval_dataset,\n",
    "    data_collator=data_collator,\n",
    ")\n",
    "\n",
    "# Evaluate the Orifinal Foundation Model\n",
    "eval_results_foundation = foundation_trainer.evaluate()\n",
    "perplexity_foundation = math.exp(eval_results_foundation['eval_loss'])\n",
    "print(f\"OriginalFoundation Model Perplexity: {perplexity_foundation}\")\n"
   ]
  },
  {
   "cell_type": "markdown",
   "id": "9e753029-0ed1-43b1-abc0-334aa1ad9995",
   "metadata": {},
   "source": [
    "## Compute BLEU Score for Foundation Model"
   ]
  },
  {
   "cell_type": "code",
   "execution_count": 88,
   "id": "e849780a-89b5-4f69-a46b-36edfb2b8338",
   "metadata": {},
   "outputs": [
    {
     "name": "stdout",
     "output_type": "stream",
     "text": [
      "Orifinal Foundation Model SacreBLEU Score: 1.502236402963001e-12\n"
     ]
    }
   ],
   "source": [
    "# Define the Response Generation Function for the Foundation Model\n",
    "# def generate_response_foundation(model, tokenizer, instruction):\n",
    "#     # Use eos_token for consistency with the model's pretraining\n",
    "#     conversation = (\n",
    "#         f\"<BOS> User: {instruction} </BOS>\"\n",
    "#         f\"<BOS> Assistant:\"\n",
    "#     )\n",
    "#     inputs = tokenizer(conversation, return_tensors='pt', padding=True).to(device)\n",
    "#     with torch.no_grad():\n",
    "#         outputs = model.generate(\n",
    "#             input_ids=inputs[\"input_ids\"],\n",
    "#             attention_mask=inputs[\"attention_mask\"],\n",
    "#             max_new_tokens=50,\n",
    "#             pad_token_id=tokenizer.pad_token_id,\n",
    "#             eos_token_id=tokenizer.eos_token_id,\n",
    "#             top_p=0.9,\n",
    "#             temperature=0.7,\n",
    "#             do_sample=True,\n",
    "#         )\n",
    "#     response = tokenizer.decode(outputs[0], skip_special_tokens=True) # Decode the generated output\n",
    "#     assistant_reply = response.split('<BOS> Assistant:')[-1].strip()\n",
    "#     return assistant_reply\n",
    "\n",
    "def generate_response_foundation(model, tokenizer, instruction):\n",
    "    conversation = (\n",
    "        f\"{tokenizer.eos_token}User: {instruction}{tokenizer.eos_token}\"\n",
    "        f\"Assistant:\"\n",
    "    )\n",
    "    inputs = tokenizer(conversation, return_tensors='pt', padding=True).to(device)\n",
    "    with torch.no_grad():\n",
    "        outputs = model.generate(\n",
    "            input_ids=inputs[\"input_ids\"],\n",
    "            attention_mask=inputs[\"attention_mask\"],\n",
    "            max_new_tokens=50,\n",
    "            pad_token_id=tokenizer.pad_token_id,\n",
    "            eos_token_id=tokenizer.eos_token_id,\n",
    "            top_p=0.9,\n",
    "            temperature=0.7,\n",
    "            do_sample=True,\n",
    "        )\n",
    "    \n",
    "    response = tokenizer.decode(outputs[0], skip_special_tokens=True) # Decode the generated output\n",
    "    \n",
    "    assistant_reply = response.split(\"Assistant:\")[-1].strip()\n",
    "    return assistant_reply\n",
    "\n",
    "\n",
    "def compute_bleu_sacrebleu_foundation(model, tokenizer, dataset):\n",
    "    references = []\n",
    "    predictions = []\n",
    "    for example in dataset:\n",
    "        input_ids = example['input_ids']\n",
    "        labels = example['labels']\n",
    "        \n",
    "        conversation_text = tokenizer.decode(input_ids, skip_special_tokens=True)\n",
    "        instruction_text = conversation_text.split('User:')[-1].split('Assistant:')[0].strip()\n",
    "        label_text = tokenizer.decode(labels, skip_special_tokens=True)\n",
    "        reference_response = label_text.split('Assistant:')[-1].strip()        \n",
    "        generated_response = generate_response_foundation(model, tokenizer, instruction_text)\n",
    "\n",
    "        references.append(reference_response)\n",
    "        predictions.append(generated_response)\n",
    "    \n",
    "    bleu = BLEU()\n",
    "    score = bleu.corpus_score(predictions, [references])\n",
    "    return score.score\n",
    "\n",
    "bleu_score_foundation = compute_bleu_sacrebleu_foundation(foundation_model, tokenizer, eval_dataset)\n",
    "print(f\"Orifinal Foundation Model SacreBLEU Score: {bleu_score_foundation}\")\n"
   ]
  },
  {
   "cell_type": "markdown",
   "id": "d8ef7be9-55d0-47e3-8a1e-52974c3d8cd3",
   "metadata": {},
   "source": [
    "## Compare the Results"
   ]
  },
  {
   "cell_type": "code",
   "execution_count": 89,
   "id": "bf267515-d397-456d-bc48-f1ad619e1876",
   "metadata": {},
   "outputs": [
    {
     "name": "stdout",
     "output_type": "stream",
     "text": [
      "\n",
      "Comparison of Models:\n",
      "PEFT Model Perplexity: 3.845786708271636\n",
      "OriginalFoundation Model Perplexity: 1901.6922739434885\n",
      "PEFT Model SacreBLEU Score: 3.9768704821496477\n",
      "Original Foundation Model SacreBLEU Score: 1.502236402963001e-12\n"
     ]
    }
   ],
   "source": [
    "# Compare the Results\n",
    "print(\"\\nComparison of Models:\")\n",
    "print(f\"PEFT Model Perplexity: {perplexity_peft}\")\n",
    "print(f\"OriginalFoundation Model Perplexity: {perplexity_foundation}\")\n",
    "print(f\"PEFT Model SacreBLEU Score: {bleu_score_peft}\")\n",
    "print(f\"Original Foundation Model SacreBLEU Score: {bleu_score_foundation}\")\n"
   ]
  },
  {
   "cell_type": "code",
   "execution_count": null,
   "id": "62f757a2-80f7-40c7-82ad-fb25a3cf94f8",
   "metadata": {},
   "outputs": [],
   "source": []
  },
  {
   "cell_type": "markdown",
   "id": "a03ac0c4-2b86-4011-93a1-34183611feba",
   "metadata": {},
   "source": [
    "# Save the Fine-Tuned Model"
   ]
  },
  {
   "cell_type": "code",
   "execution_count": 90,
   "id": "c0c5421e",
   "metadata": {},
   "outputs": [
    {
     "data": {
      "text/plain": [
       "('./customer_support_chatbot_peft_model3/tokenizer_config.json',\n",
       " './customer_support_chatbot_peft_model3/special_tokens_map.json',\n",
       " './customer_support_chatbot_peft_model3/vocab.json',\n",
       " './customer_support_chatbot_peft_model3/merges.txt',\n",
       " './customer_support_chatbot_peft_model3/added_tokens.json',\n",
       " './customer_support_chatbot_peft_model3/tokenizer.json')"
      ]
     },
     "execution_count": 90,
     "metadata": {},
     "output_type": "execute_result"
    }
   ],
   "source": [
    "peft_model.save_pretrained('./customer_support_chatbot_peft_model3')\n",
    "tokenizer.save_pretrained('./customer_support_chatbot_peft_model3')"
   ]
  },
  {
   "cell_type": "markdown",
   "id": "9c94c865-7a76-447f-b42d-22fa37d06cee",
   "metadata": {},
   "source": [
    "# Plot Training and Validation Loss"
   ]
  },
  {
   "cell_type": "code",
   "execution_count": 91,
   "id": "04a60d05",
   "metadata": {},
   "outputs": [
    {
     "data": {
      "image/png": "[encoded data removed]",
      "text/plain": [
       "<Figure size 1200x600 with 1 Axes>"
      ]
     },
     "metadata": {},
     "output_type": "display_data"
    }
   ],
   "source": [
    "def plot_training_history(trainer, output_path='training_and_validation_loss_plot.png'):\n",
    "    metrics = trainer.state.log_history\n",
    "    train_steps = []\n",
    "    train_loss = []\n",
    "    eval_steps = []\n",
    "    eval_loss = []\n",
    "\n",
    "    for entry in metrics:\n",
    "        if 'loss' in entry and 'learning_rate' in entry:\n",
    "            train_steps.append(entry['step'])\n",
    "            train_loss.append(entry['loss'])\n",
    "        elif 'eval_loss' in entry:\n",
    "            eval_steps.append(entry['step'])\n",
    "            eval_loss.append(entry['eval_loss'])\n",
    "\n",
    "    plt.figure(figsize=(12, 6))\n",
    "\n",
    "    # Plot Training Loss\n",
    "    if train_steps and train_loss:\n",
    "        plt.plot(train_steps, train_loss, label='Training Loss', color='blue')\n",
    "\n",
    "    # Plot Validation Loss\n",
    "    if eval_steps and eval_loss:\n",
    "        plt.plot(eval_steps, eval_loss, label='Validation Loss', color='red')\n",
    "\n",
    "    plt.xlabel('Step')\n",
    "    plt.ylabel('Loss')\n",
    "    plt.title('Training and Validation Loss')\n",
    "    plt.legend()\n",
    "    plt.grid(True)\n",
    "    plt.savefig(output_path)\n",
    "    plt.show()\n",
    "\n",
    "plot_training_history(trainer)\n"
   ]
  },
  {
   "cell_type": "markdown",
   "id": "88a56b1c",
   "metadata": {},
   "source": [
    "# Run with Saved Model\n",
    "Inference and Testing with PEFT Model"
   ]
  },
  {
   "cell_type": "code",
   "execution_count": 92,
   "id": "fc8e937c",
   "metadata": {},
   "outputs": [
    {
     "data": {
      "text/plain": [
       "PeftModelForCausalLM(\n",
       "  (base_model): LoraModel(\n",
       "    (model): GPT2LMHeadModel(\n",
       "      (transformer): GPT2Model(\n",
       "        (wte): Embedding(50257, 1024)\n",
       "        (wpe): Embedding(1024, 1024)\n",
       "        (drop): Dropout(p=0.1, inplace=False)\n",
       "        (h): ModuleList(\n",
       "          (0-23): 24 x GPT2Block(\n",
       "            (ln_1): LayerNorm((1024,), eps=1e-05, elementwise_affine=True)\n",
       "            (attn): GPT2SdpaAttention(\n",
       "              (c_attn): lora.Linear(\n",
       "                (base_layer): Conv1D(nf=3072, nx=1024)\n",
       "                (lora_dropout): ModuleDict(\n",
       "                  (default): Dropout(p=0.1, inplace=False)\n",
       "                )\n",
       "                (lora_A): ModuleDict(\n",
       "                  (default): Linear(in_features=1024, out_features=8, bias=False)\n",
       "                )\n",
       "                (lora_B): ModuleDict(\n",
       "                  (default): Linear(in_features=8, out_features=3072, bias=False)\n",
       "                )\n",
       "                (lora_embedding_A): ParameterDict()\n",
       "                (lora_embedding_B): ParameterDict()\n",
       "                (lora_magnitude_vector): ModuleDict()\n",
       "              )\n",
       "              (c_proj): lora.Linear(\n",
       "                (base_layer): Conv1D(nf=1024, nx=1024)\n",
       "                (lora_dropout): ModuleDict(\n",
       "                  (default): Dropout(p=0.1, inplace=False)\n",
       "                )\n",
       "                (lora_A): ModuleDict(\n",
       "                  (default): Linear(in_features=1024, out_features=8, bias=False)\n",
       "                )\n",
       "                (lora_B): ModuleDict(\n",
       "                  (default): Linear(in_features=8, out_features=1024, bias=False)\n",
       "                )\n",
       "                (lora_embedding_A): ParameterDict()\n",
       "                (lora_embedding_B): ParameterDict()\n",
       "                (lora_magnitude_vector): ModuleDict()\n",
       "              )\n",
       "              (attn_dropout): Dropout(p=0.1, inplace=False)\n",
       "              (resid_dropout): Dropout(p=0.1, inplace=False)\n",
       "            )\n",
       "            (ln_2): LayerNorm((1024,), eps=1e-05, elementwise_affine=True)\n",
       "            (mlp): GPT2MLP(\n",
       "              (c_fc): Conv1D(nf=4096, nx=1024)\n",
       "              (c_proj): lora.Linear(\n",
       "                (base_layer): Conv1D(nf=1024, nx=4096)\n",
       "                (lora_dropout): ModuleDict(\n",
       "                  (default): Dropout(p=0.1, inplace=False)\n",
       "                )\n",
       "                (lora_A): ModuleDict(\n",
       "                  (default): Linear(in_features=4096, out_features=8, bias=False)\n",
       "                )\n",
       "                (lora_B): ModuleDict(\n",
       "                  (default): Linear(in_features=8, out_features=1024, bias=False)\n",
       "                )\n",
       "                (lora_embedding_A): ParameterDict()\n",
       "                (lora_embedding_B): ParameterDict()\n",
       "                (lora_magnitude_vector): ModuleDict()\n",
       "              )\n",
       "              (act): NewGELUActivation()\n",
       "              (dropout): Dropout(p=0.1, inplace=False)\n",
       "            )\n",
       "          )\n",
       "        )\n",
       "        (ln_f): LayerNorm((1024,), eps=1e-05, elementwise_affine=True)\n",
       "      )\n",
       "      (lm_head): Linear(in_features=1024, out_features=50257, bias=False)\n",
       "    )\n",
       "  )\n",
       ")"
      ]
     },
     "execution_count": 92,
     "metadata": {},
     "output_type": "execute_result"
    }
   ],
   "source": [
    "tokenizer = AutoTokenizer.from_pretrained('./customer_support_chatbot_peft_model3')\n",
    "peft_model = AutoPeftModelForCausalLM.from_pretrained('./customer_support_chatbot_peft_model3')\n",
    "\n",
    "# Set the pad_token to eos_token\n",
    "# Ensure pad_token is set\n",
    "if tokenizer.pad_token is None:\n",
    "    print(\"Padding token\")\n",
    "    # tokenizer.add_special_tokens({'pad_token': '[PAD]'}) # For fine-tuning the model on tasks requiring distinct padding\n",
    "    tokenizer.pad_token = tokenizer.eos_token\n",
    "\n",
    "device = torch.device('cuda' if torch.cuda.is_available() else 'cpu')\n",
    "peft_model.to(device)\n",
    "peft_model.eval()\n"
   ]
  },
  {
   "cell_type": "markdown",
   "id": "8cee2bb4-4e3c-4788-9bab-3acdc7a79a7a",
   "metadata": {},
   "source": [
    "# Test the Chatbot"
   ]
  },
  {
   "cell_type": "code",
   "execution_count": 93,
   "id": "004e804e-55aa-4e35-904b-4a587feb1c6a",
   "metadata": {},
   "outputs": [
    {
     "name": "stdout",
     "output_type": "stream",
     "text": [
      "===============================================\n",
      "Responses Using the PEFT Model:\n",
      "--\n",
      "User: Can you help me to order more of this product I bought previously, order number 123?\n",
      "--\n",
      "Assistant: I'm sorry to hear that you are having trouble with ordering your product. I'm here to assist you in finding the appropriate information to assist you in purchasing your product. Could you please provide me with the order number or any other relevant details? This\n",
      "\n",
      "--\n",
      "User: How can I track my order which my order number is #1234\n",
      "--\n",
      "Assistant: I understand your confusion and I'm here to assist you with tracking your order number. To track your order, you can log into your account on our website and navigate to the \"Tracking\" section. You should be able to find your order number\n",
      "\n",
      "--\n",
      "User: I forgot my password, how can I reset it?\n",
      "--\n",
      "Assistant: I've got it figured out. You can reset your password in our secure system by logging in to our website and clicking on the Reset Password button on the top right corner of the page. Once you've done that, you'll be prompted to enter\n",
      "\n",
      "--\n",
      "User: How to return my product?\n",
      "--\n",
      "Assistant: I'm on your side! I'm here to assist you in returning your product. To retrieve your product, please follow these steps:\n",
      "1. Log in to your account.\n",
      "2. Navigate to the 'My Account' or 'Profile\n",
      "\n",
      "===============================================\n",
      "Responses from the Orifinal Foundation Model:\n",
      "--\n",
      "User: Can you help me to order more of this product I bought previously, order number 123?\n",
      "--\n",
      "Assistant: I can't find that number\n",
      "\n",
      "--\n",
      "User: How can I track my order which my order number is #1234\n",
      "--\n",
      "Assistant: how can I track my order which my order number is\n",
      "\n",
      "--\n",
      "User: I forgot my password, how can I reset it?\n",
      "--\n",
      "Assistant: Please be careful, I might have a few things to do...\n",
      "\n",
      "--\n",
      "User: How to return my product?\n",
      "--\n",
      "Assistant: What's your return policy?\n",
      "\n"
     ]
    }
   ],
   "source": [
    "test_instructions = [\n",
    "    \"Can you help me to order more of this product I bought previously, order number 123?\",\n",
    "    \"How can I track my order which my order number is #1234\",\n",
    "    \"I forgot my password, how can I reset it?\",\n",
    "    \"How to return my product?\",\n",
    "]\n",
    "\n",
    "print(\"===============================================\")\n",
    "print(\"Responses Using the PEFT Model:\")\n",
    "for instruction in test_instructions:\n",
    "    response = generate_response_peft(peft_model, tokenizer, instruction)\n",
    "    print(f\"--\\nUser: {instruction}\")\n",
    "    print(f\"--\\nAssistant: {response}\\n\")\n",
    "\n",
    "print(\"===============================================\")\n",
    "print(\"Responses from the Orifinal Foundation Model:\")\n",
    "for instruction in test_instructions:\n",
    "    response = generate_response_foundation(foundation_model, tokenizer, instruction)\n",
    "    print(f\"--\\nUser: {instruction}\")\n",
    "    print(f\"--\\nAssistant: {response}\\n\")\n"
   ]
  },
  {
   "cell_type": "code",
   "execution_count": null,
   "id": "6dd1378e-ba4b-4c2e-aadb-c0ead6405717",
   "metadata": {},
   "outputs": [],
   "source": []
  },
  {
   "cell_type": "code",
   "execution_count": null,
   "id": "52df9890-0143-45ac-8433-88e0db62c141",
   "metadata": {},
   "outputs": [],
   "source": []
  },
  {
   "cell_type": "markdown",
   "id": "f0f1f696-be8f-4ddf-b015-9c46e39a8aa4",
   "metadata": {},
   "source": [
    "# Interactive Widgets"
   ]
  },
  {
   "cell_type": "code",
   "execution_count": 94,
   "id": "73023f9f",
   "metadata": {},
   "outputs": [
    {
     "data": {
      "application/vnd.jupyter.widget-view+json": {
       "model_id": "072cf41b9b684f7980c8ea29ac9d98c6",
       "version_major": 2,
       "version_minor": 0
      },
      "text/plain": [
       "Dropdown(description='Intent:', options=('unknown', 'create_account', 'registration_problems', 'review', 'plac…"
      ]
     },
     "metadata": {},
     "output_type": "display_data"
    },
    {
     "data": {
      "application/vnd.jupyter.widget-view+json": {
       "model_id": "0ab4c006210649b8b7e3d2bc12c274cb",
       "version_major": 2,
       "version_minor": 0
      },
      "text/plain": [
       "Dropdown(description='Category:', options=('unknown', 'PAYMENT', 'REFUND', 'INVOICE', 'ACCOUNT', 'SUBSCRIPTION…"
      ]
     },
     "metadata": {},
     "output_type": "display_data"
    },
    {
     "data": {
      "application/vnd.jupyter.widget-view+json": {
       "model_id": "64f90a5de00f49ebbd53573f17b8981b",
       "version_major": 2,
       "version_minor": 0
      },
      "text/plain": [
       "Text(value='', description='Instruction:', placeholder='Enter your instruction here')"
      ]
     },
     "metadata": {},
     "output_type": "display_data"
    },
    {
     "data": {
      "application/vnd.jupyter.widget-view+json": {
       "model_id": "fc17ba31c47740b483a2cc5840869772",
       "version_major": 2,
       "version_minor": 0
      },
      "text/plain": [
       "Button(button_style='primary', description='Submit', style=ButtonStyle())"
      ]
     },
     "metadata": {},
     "output_type": "display_data"
    },
    {
     "data": {
      "application/vnd.jupyter.widget-view+json": {
       "model_id": "4615e55d5cf34cebb0feb734619b8272",
       "version_major": 2,
       "version_minor": 0
      },
      "text/plain": [
       "Output()"
      ]
     },
     "metadata": {},
     "output_type": "display_data"
    }
   ],
   "source": [
    "import ipywidgets as widgets\n",
    "from IPython.display import display\n",
    "\n",
    "# Define options for intent and category\n",
    "intent_options = [\n",
    "    'unknown', 'create_account', 'registration_problems', 'review', 'place_order', 'set_up_shipping_address', \n",
    "    'track_order', 'change_order', 'recover_password', 'delivery_options', 'check_refund_policy', \n",
    "    'change_shipping_address', 'cancel_order', 'get_invoice', 'contact_customer_service', \n",
    "    'check_invoice', 'newsletter_subscription', 'switch_account', 'track_refund', 'delivery_period', \n",
    "    'check_cancellation_fee', 'edit_account', 'delete_account', 'get_refund', 'payment_issue', \n",
    "    'contact_human_agent', 'check_payment_methods', 'complaint'\n",
    "]\n",
    "\n",
    "category_options = [\n",
    "    'unknown', 'PAYMENT', 'REFUND', 'INVOICE', 'ACCOUNT', 'SUBSCRIPTION', 'ORDER', \n",
    "    'DELIVERY', 'SHIPPING', 'CANCEL', 'CONTACT', 'FEEDBACK'\n",
    "]\n",
    "\n",
    "# Create dropdown widgets for intent and category\n",
    "intent_dropdown = widgets.Dropdown(\n",
    "    options=intent_options,\n",
    "    description='Intent:',\n",
    "    disabled=False,\n",
    ")\n",
    "\n",
    "category_dropdown = widgets.Dropdown(\n",
    "    options=category_options,\n",
    "    description='Category:',\n",
    "    disabled=False,\n",
    ")\n",
    "\n",
    "# Create a text box for user instruction\n",
    "instruction_text = widgets.Text(\n",
    "    description='Instruction:',\n",
    "    placeholder='Enter your instruction here',\n",
    "    disabled=False\n",
    ")\n",
    "\n",
    "# Create an output widget to display the response\n",
    "output = widgets.Output()\n",
    "\n",
    "# Define the function to generate the response\n",
    "def on_submit_clicked(b):\n",
    "    # Clear previous output\n",
    "    output.clear_output()\n",
    "    \n",
    "    # Retrieve the selected category, intent, and instruction text\n",
    "    category = category_dropdown.value\n",
    "    intent = intent_dropdown.value\n",
    "    instruction = instruction_text.value\n",
    "    \n",
    "    # Generate the response\n",
    "    response = generate_response_peft(peft_model, tokenizer, instruction, category=category, intent=intent)\n",
    "    \n",
    "    # Display the response\n",
    "    with output:\n",
    "        print(f\"User: {instruction}\")\n",
    "        print(f\"Assistant: {response}\\n\")\n",
    "\n",
    "# Create a submit button\n",
    "submit_button = widgets.Button(\n",
    "    description=\"Submit\",\n",
    "    button_style=\"primary\"\n",
    ")\n",
    "submit_button.on_click(on_submit_clicked)\n",
    "\n",
    "# Display the widgets and output\n",
    "display(intent_dropdown, category_dropdown, instruction_text, submit_button, output)"
   ]
  },
  {
   "cell_type": "code",
   "execution_count": null,
   "id": "5c43edf2-ed92-4d83-97dd-4a006c60c407",
   "metadata": {},
   "outputs": [],
   "source": []
  },
  {
   "cell_type": "code",
   "execution_count": null,
   "id": "f74ed0c2-6a61-417c-a274-5533c27e5499",
   "metadata": {},
   "outputs": [],
   "source": []
  },
  {
   "cell_type": "code",
   "execution_count": null,
   "id": "8a7d89f2-706b-4770-bf60-fd0ef01c2c88",
   "metadata": {},
   "outputs": [],
   "source": []
  },
  {
   "cell_type": "code",
   "execution_count": null,
   "id": "00a149d2-410b-4e30-8b3f-fd163aa82435",
   "metadata": {},
   "outputs": [],
   "source": []
  },
  {
   "cell_type": "code",
   "execution_count": null,
   "id": "207be3c6-1747-4bb2-b7b8-05ce0b5e702a",
   "metadata": {},
   "outputs": [],
   "source": []
  },
  {
   "cell_type": "code",
   "execution_count": null,
   "id": "59019fa0-f1f5-4cfa-9412-89fd73c2074b",
   "metadata": {},
   "outputs": [],
   "source": []
  },
  {
   "cell_type": "code",
   "execution_count": null,
   "id": "906828d6-0490-4146-aae7-b41e0b20c849",
   "metadata": {},
   "outputs": [],
   "source": []
  },
  {
   "cell_type": "code",
   "execution_count": null,
   "id": "8f698a98-5e00-46d1-9ff0-94c974ec17a5",
   "metadata": {},
   "outputs": [],
   "source": []
  },
  {
   "cell_type": "code",
   "execution_count": null,
   "id": "a018ebef-cb48-46d5-9282-65e2ff455852",
   "metadata": {},
   "outputs": [],
   "source": []
  }
 ],
 "metadata": {
  "kernelspec": {
   "display_name": "Python [conda env:genAI] *",
   "language": "python",
   "name": "conda-env-genAI-py"
  },
  "language_info": {
   "codemirror_mode": {
    "name": "ipython",
    "version": 3
   },
   "file_extension": ".py",
   "mimetype": "text/x-python",
   "name": "python",
   "nbconvert_exporter": "python",
   "pygments_lexer": "ipython3",
   "version": "3.10.13"
  }
 },
 "nbformat": 4,
 "nbformat_minor": 5
}
